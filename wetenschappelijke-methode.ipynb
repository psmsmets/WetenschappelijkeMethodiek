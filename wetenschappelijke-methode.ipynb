{
  "cells": [
    {
      "cell_type": "markdown",
      "metadata": {},
      "source": [
        "# De wetenschappelijke methode \n",
        "\n",
        "De wetenschappelijke methode is een systematische benadering die wordt gebruikt in de wetenschap om kennis te vergaren en hypothesen te testen. Het omvat een reeks stappen die wetenschappers volgen om betrouwbare en objectieve resultaten te verkrijgen. \n",
        "\n",
        "\n",
        "## Zeven stappen\n",
        "\n",
        "```{circo}\n",
        "digraph {\n",
        "    node [colorscheme=oranges7] # Apply colorscheme to all nodes\n",
        "    \"3. Voorspelling\" -> \"4. Experiment\"\n",
        "    \"4. Experiment\" -> \"5. Data-analyse\"\n",
        "    \"5. Data-analyse\" -> \"6. Conclusie\"\n",
        "    \"6. Conclusie\" -> \"7. Communicatie\"\n",
        "    \"7. Communicatie\" -> \"1. Observatie\"\n",
        "    \"1. Observatie\" -> \"2. Hypothese\"\n",
        "    \"2. Hypothese\" -> \"3. Voorspelling\"\n",
        "}```\n",
        "\n",
        " Over het algemeen bestaat de wetenschappelijke methode uit de volgende stappen:\n",
        "\n",
        "1. **Observatie:** Waarnemen van een fenomeen of verschijnsel en het stellen van een vraag over hoe of waarom dit gebeurt.\n",
        "1. **Hypothese:** Formuleren van een verklaring of een voorlopige antwoord op de vraag die gebaseerd is op bestaande kennis en logisch redeneren.\n",
        "1. **Voorspelling:** Afleiden van specifieke voorspellingen uit de hypothese die getest kunnen worden.\n",
        "1. **Experiment:** Ontwerpen en uitvoeren van gecontroleerde experimenten om de voorspellingen te testen. Het experiment moet zorgvuldig worden opgezet, met controlevariabelen en experimentele groepen, om nauwkeurige en reproduceerbare resultaten te verkrijgen.\n",
        "1. **Data-analyse:** Verzamelen en analyseren van de gegevens die tijdens het experiment zijn verzameld, vaak met behulp van statistische methoden.\n",
        "1. **Conclusie:** Op basis van de resultaten van het experiment, beoordelen of de hypothesen worden ondersteund of weerlegd. Het kan nodig zijn om het experiment te herhalen of verder onderzoek uit te voeren om tot een definitieve conclusie te komen.\n",
        "1. **Communicatie:** Het rapporteren van de resultaten, inclusief de methode, bevindingen en conclusies, aan de wetenschappelijke gemeenschap via publicaties, presentaties en discussies.\n",
        "\n",
        "De wetenschappelijke methode is een iteratief proces, waarbij nieuwe observaties en experimenten kunnen leiden tot herziening van hypothesen en nieuwe vragen, waardoor de wetenschappelijke kennis voortdurend groeit en evolueert. \n",
        "\n",
        "## Historie\n",
        "\n",
        "Drie wetenschappers hadden een grote invloed op de wetenschappelijke methode:\n",
        "\n",
        "* Francis Bacon (1561-1626), Engels filoof,\n",
        "* Rene Descartes (1596-1650), Frans wiskundige/geograaf/filosoof,\n",
        "* Isaac Newton (1643-1727), Engels astronoom en natuurkundige."
      ],
      "id": "c88e12c8"
    }
  ],
  "metadata": {
    "kernelspec": {
      "display_name": "Python 3",
      "language": "python",
      "name": "python3"
    }
  },
  "nbformat": 4,
  "nbformat_minor": 5
}